{
 "cells": [
  {
   "cell_type": "markdown",
   "metadata": {},
   "source": [
    "## MongoDB Database CRUD Operations from Jupyter Notebook with Python:\n",
    "\n",
    "<br/>\n",
    "<br/>\n",
    "<img src=data:image/png;base64,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>\n"
   ]
  },
  {
   "cell_type": "markdown",
   "metadata": {},
   "source": [
    "https://www.w3schools.com/python/python_mongodb_insert.asp\n",
    "<br>\n",
    "https://www.mongodb.com/try/download/community\n",
    "    "
   ]
  },
  {
   "cell_type": "markdown",
   "metadata": {},
   "source": [
    "#### Interacting with MongoDB using Python via Jupyter Notebook - alternative to IDE or Text Editor.\n",
    "\n",
    "**Description**: Here I have written the statements to perform CRUD actions on **customer_details** collection in **mongodb_workshop** database from localhost server of MongoDB.\n",
    "\n",
    "#### MongoDB CRUD methods with Python\n",
    "\n",
    "**Create/Insert**:\n",
    "> - insert_one()\n",
    "> - insert_many()\n",
    "\n",
    "**Read/Fetch**:\n",
    "> - To find all documents - find()\n",
    "> - To find one specific document - find({})\n",
    "\n",
    "**Update**:\n",
    "> - update_one()\n",
    "> - update_many()\n",
    "\n",
    "**Delete**:\n",
    "> - delete_one()\n",
    "> - delete_many()"
   ]
  },
  {
   "cell_type": "code",
   "execution_count": 1,
   "metadata": {},
   "outputs": [
    {
     "name": "stdout",
     "output_type": "stream",
     "text": [
      "Requirement already satisfied: pymongo in /Users/ullola_1710/opt/anaconda3/lib/python3.9/site-packages (4.6.2)\r\n",
      "Requirement already satisfied: dnspython<3.0.0,>=1.16.0 in /Users/ullola_1710/opt/anaconda3/lib/python3.9/site-packages (from pymongo) (2.6.1)\r\n"
     ]
    }
   ],
   "source": [
    "!pip install pymongo"
   ]
  },
  {
   "cell_type": "code",
   "execution_count": 2,
   "metadata": {},
   "outputs": [],
   "source": [
    "import pymongo"
   ]
  },
  {
   "cell_type": "code",
   "execution_count": 3,
   "metadata": {},
   "outputs": [],
   "source": [
    "# To connect to MongoDB server:\n",
    "client = pymongo.MongoClient('localhost', 27017)\n",
    "\n",
    "# Create Database:\n",
    "db = client.mongodb_workshop\n",
    "\n",
    "# Create Collection:\n",
    "collection = db.collection[\"coach_details\"]\n",
    "\n",
    "collection_2 = db.collection [\"Estudiantes\"]"
   ]
  },
  {
   "cell_type": "markdown",
   "metadata": {},
   "source": [
    "#### Data to store/insert into MongoDB Database:"
   ]
  },
  {
   "cell_type": "code",
   "execution_count": 4,
   "metadata": {},
   "outputs": [],
   "source": [
    "# One document:\n",
    "doc_1 = {\"_id\": 1, \"first_name\": \"Roldoro\", \"gender\": \"M\", \"shift\": [\"AM\", \"PM\"], \"ph_num\": 456378903, \"trains_for\": [\"valleyball\", \"basketball\"], \"manager\": \"Jack\"}"
   ]
  },
  {
   "cell_type": "code",
   "execution_count": 5,
   "metadata": {},
   "outputs": [],
   "source": [
    "# Estudiantes document:\n",
    "#doc_2 = {\"_id\": 2, \"first_name\": \"Miguel\", \"second_name\": \"Martínez\", \"age\": 32, \"mean_grade\": 72}"
   ]
  },
  {
   "cell_type": "code",
   "execution_count": 6,
   "metadata": {},
   "outputs": [],
   "source": [
    "# Multiple documents:\n",
    "docs = [\n",
    "    {\"first_name\": \"Miguel\", \"id\": 1, \"shift\": \"AM\", \"ph_num\": 234564980, \"trains_for\": [\"tennis\", \"badminton\"], \"manager\": \"Jack\"},\n",
    "    {\"first_name\": \"Victor\", \"gender\": \"M\", \"shift\": \"AM\", \"ph_num\": 987654321, \"trains_for\": [\"valleyball\", \"basketball\"], \"manager\": \"Amin\"},\n",
    "    {\"first_name\": \"Rosa\", \"gender\": \"M\", \"shift\": \"PM\", \"ph_num\": 456234908, \"trains_for\": \"badminton\", \"manager\": \"Amin\"},\n",
    "    {\"first_name\": \"alberto\", \"gender\": \"M\", \"shift\": \"AM\", \"ph_num\": 123456789, \"trains_for\": \"tennis\", \"manager\": \"Jack\"},\n",
    "    {\"first_name\": \"Emma\", \"gender\": \"F\", \"shift\": \"PM\", \"ph_num\": 776655443, \"trains_for\": \"indoor archery\", \"manager\": \"Amin\"},\n",
    "    {\"first_name\": \"Hira\", \"gender\": \"F\", \"shift\": [\"AM\", \"PM\"], \"ph_num\": 246813579, \"trains_for\": [\"valleyball\", \"basketball\"], \"manager\": \"Jack\"},\n",
    "    {\"first_name\": \"Isha\", \"gender\": \"F\", \"shift\": \"PM\", \"ph_num\": 135792468, \"trains_for\": \"indoor archery\", \"manager\": \"Amin\"},\n",
    "    {\"first_name\": \"Alice\", \"gender\": \"M\", \"shift\": \"AM\", \"ph_num\": 2244668800, \"trains_for\": \"badminton\", \"manager\": \"Jack\"},\n",
    "    {\"first_name\": \"Deepali\", \"gender\": \"F\", \"shift\": [\"AM\", \"PM\"], \"ph_num\": 113355779, \"trains_for\": [\"tennis\", \"badminton\"], \"manager\": \"Amin\"}\n",
    "]"
   ]
  },
  {
   "cell_type": "code",
   "execution_count": 7,
   "metadata": {},
   "outputs": [],
   "source": [
    "# Multiple documents for doc_2:\n",
    "docs_2 = [\n",
    "    {\"first_name\": \"Jade\", \"id\": 3, \"second_name\": \"Ullola\", \"age\": 20, \"mean_grade\": 99},\n",
    "    {\"first_name\": \"Marco\", \"second_name\": \"Mayoral\", \"age\": 21, \"mean_grade\": 91},\n",
    "    {\"first_name\": \"Celic\", \"second_name\": \"Hernández\", \"age\": 21, \"mean_grade\": 98},\n",
    "    {\"first_name\": \"Diego\", \"second_name\": \"Malerva\", \"age\": 21, \"mean_grade\": 98},\n",
    "    {\"first_name\": \"Emilio\", \"second_name\": \"Sonck\", \"age\": 20, \"mean_grade\": 94},\n",
    "    {\"first_name\": \"Luis\", \"second_name\": \"Lezama\", \"age\": 20, \"mean_grade\": 99},\n",
    "    {\"first_name\": \"Diego\", \"second_name\": \"García\", \"age\": 20, \"mean_grade\": 97},\n",
    "    {\"first_name\": \"Emilio\", \"second_name\": \"López\", \"age\": 20, \"mean_grade\": 91},\n",
    "    {\"first_name\": \"Jesús\", \"second_name\": \"Atacho\", \"age\": 20, \"mean_grade\": 98},\n",
    "    {\"first_name\": \"Ian\", \"second_name\": \"Reyes\", \"age\": 25, \"mean_grade\": 96}\n",
    "]"
   ]
  },
  {
   "cell_type": "code",
   "execution_count": null,
   "metadata": {},
   "outputs": [],
   "source": [
    "# Dummy documents:\n",
    "test_docs = [\n",
    "    {\"first_name\": \"test_1\", \"gender\": \"F\", \"shift\": \"AM\", \"ph_num\": 234564980, \"trains_for\": [\"tennis\", \"badminton\"], \"manager\": \"Jack\"},\n",
    "    {\"first_name\": \"test_2\", \"gender\": \"M\", \"shift\": \"AM\", \"ph_num\": 987654321, \"trains_for\": [\"valleyball\", \"basketball\"], \"manager\": \"Amin\"},\n",
    "    {\"_id\":14, \"first_name\": \"test_3\", \"gender\": \"M\", \"shift\": \"AM\", \"ph_num\": 987654321, \"trains_for\": [\"valleyball\", \"basketball\"], \"manager\": \"Amin\"}\n",
    "]"
   ]
  },
  {
   "cell_type": "code",
   "execution_count": null,
   "metadata": {},
   "outputs": [],
   "source": [
    "# Dummy Document:\n",
    "test_doc = {\"_id\":14, \"first_name\": \"test\", \"gender\": \"M\", \"shift\": \"AM\", \"ph_num\": 987654321, \"trains_for\": [\"valleyball\", \"basketball\"], \"manager\": \"Amin\"}"
   ]
  },
  {
   "cell_type": "markdown",
   "metadata": {},
   "source": [
    "#### To insert documents to the above collection 'coach_details':"
   ]
  },
  {
   "cell_type": "code",
   "execution_count": 8,
   "metadata": {},
   "outputs": [
    {
     "data": {
      "text/plain": [
       "InsertOneResult(1, acknowledged=True)"
      ]
     },
     "execution_count": 8,
     "metadata": {},
     "output_type": "execute_result"
    }
   ],
   "source": [
    "# To insert one document:\n",
    "collection.insert_one(doc_1)"
   ]
  },
  {
   "cell_type": "code",
   "execution_count": 9,
   "metadata": {},
   "outputs": [
    {
     "data": {
      "text/plain": [
       "InsertManyResult([ObjectId('65f0e4a5bf8dd66eb75c3d4d'), ObjectId('65f0e4a5bf8dd66eb75c3d4e'), ObjectId('65f0e4a5bf8dd66eb75c3d4f'), ObjectId('65f0e4a5bf8dd66eb75c3d50'), ObjectId('65f0e4a5bf8dd66eb75c3d51'), ObjectId('65f0e4a5bf8dd66eb75c3d52'), ObjectId('65f0e4a5bf8dd66eb75c3d53'), ObjectId('65f0e4a5bf8dd66eb75c3d54'), ObjectId('65f0e4a5bf8dd66eb75c3d55'), ObjectId('65f0e4a5bf8dd66eb75c3d56')], acknowledged=True)"
      ]
     },
     "execution_count": 9,
     "metadata": {},
     "output_type": "execute_result"
    }
   ],
   "source": [
    "# To insert multiple documents:\n",
    "collection.insert_many(docs)\n",
    "collection_2.insert_many(docs_2)"
   ]
  },
  {
   "cell_type": "code",
   "execution_count": null,
   "metadata": {},
   "outputs": [],
   "source": [
    "# To insert test documents:\n",
    "collection.insert_many(test_docs)"
   ]
  },
  {
   "cell_type": "markdown",
   "metadata": {},
   "source": [
    "#### To fetch/read documents: "
   ]
  },
  {
   "cell_type": "code",
   "execution_count": null,
   "metadata": {},
   "outputs": [],
   "source": [
    "# To fetch specific document by passing ID:\n",
    "collection.find_one(1)"
   ]
  },
  {
   "cell_type": "code",
   "execution_count": null,
   "metadata": {},
   "outputs": [],
   "source": [
    "# To fetch all documents:\n",
    "results = collection.find()\n",
    "\n",
    "# OR\n",
    "# results = collection.find({})"
   ]
  },
  {
   "cell_type": "code",
   "execution_count": null,
   "metadata": {},
   "outputs": [],
   "source": [
    "# To display documents:\n",
    "for res in results:\n",
    "    print(res)"
   ]
  },
  {
   "cell_type": "code",
   "execution_count": null,
   "metadata": {},
   "outputs": [],
   "source": [
    "# To fetch only few documents:\n",
    "ans = collection.find({}).limit(3)"
   ]
  },
  {
   "cell_type": "code",
   "execution_count": null,
   "metadata": {},
   "outputs": [],
   "source": [
    "# To display documents:\n",
    "for doc in ans:\n",
    "    print(doc)"
   ]
  },
  {
   "cell_type": "markdown",
   "metadata": {},
   "source": [
    "#### To delete documents:"
   ]
  },
  {
   "cell_type": "code",
   "execution_count": null,
   "metadata": {},
   "outputs": [],
   "source": [
    "# To delete one document:\n",
    "collection.delete_one({\"_id\": 14})"
   ]
  },
  {
   "cell_type": "code",
   "execution_count": null,
   "metadata": {},
   "outputs": [],
   "source": [
    "# To delete selected documents:\n",
    "del_docs = { \"first_name\": {\"$regex\": \"^t\"} }"
   ]
  },
  {
   "cell_type": "code",
   "execution_count": null,
   "metadata": {},
   "outputs": [],
   "source": [
    "collection.delete_many(del_docs)"
   ]
  },
  {
   "cell_type": "code",
   "execution_count": null,
   "metadata": {},
   "outputs": [],
   "source": [
    "# To delete all documents - not recommended!\n",
    "# collection.delete_many({})"
   ]
  },
  {
   "cell_type": "markdown",
   "metadata": {},
   "source": [
    "#### To update documents:"
   ]
  },
  {
   "cell_type": "code",
   "execution_count": null,
   "metadata": {},
   "outputs": [],
   "source": [
    "# Storing values in variables to be updated/edited:\n",
    "doc_update = {\"first_name\": \"Deo\"}\n",
    "val_update = {\"$set\": {\"first_name\": \"Deora\"}}"
   ]
  },
  {
   "cell_type": "code",
   "execution_count": null,
   "metadata": {},
   "outputs": [],
   "source": [
    "# To update one document:\n",
    "collection.update_one(doc_update, val_update)"
   ]
  },
  {
   "cell_type": "code",
   "execution_count": null,
   "metadata": {},
   "outputs": [],
   "source": [
    "# Storing values in variables to be updated/edited:\n",
    "docs_update = {\"first_name\": {\"$regex\": \"^A\"}}\n",
    "vals_update = {\"$set\": {\"coach\": \"Wilson\"}}"
   ]
  },
  {
   "cell_type": "code",
   "execution_count": null,
   "metadata": {},
   "outputs": [],
   "source": [
    "# To update multi documents:\n",
    "collection.update_many(docs_update, vals_update)"
   ]
  },
  {
   "cell_type": "markdown",
   "metadata": {},
   "source": [
    "#### To drop/delete a collection - unless it's not required for production or testing!\n",
    "\n",
    "> - For Collection to get created by the MongoDB server, atleast one document needs to be inserted."
   ]
  },
  {
   "cell_type": "code",
   "execution_count": null,
   "metadata": {},
   "outputs": [],
   "source": [
    "test_collection = db.collection[\"test_collection\"]"
   ]
  },
  {
   "cell_type": "code",
   "execution_count": null,
   "metadata": {},
   "outputs": [],
   "source": [
    "test_collection.insert_one({\"name\": \"Sample Document\"})"
   ]
  },
  {
   "cell_type": "code",
   "execution_count": null,
   "metadata": {},
   "outputs": [],
   "source": [
    "test_collection.drop()"
   ]
  },
  {
   "cell_type": "code",
   "execution_count": null,
   "metadata": {},
   "outputs": [],
   "source": [
    "# To insert multiple documents:\n",
    "collection.insert_many(docs)"
   ]
  }
 ],
 "metadata": {
  "kernelspec": {
   "display_name": "Python 3 (ipykernel)",
   "language": "python",
   "name": "python3"
  },
  "language_info": {
   "codemirror_mode": {
    "name": "ipython",
    "version": 3
   },
   "file_extension": ".py",
   "mimetype": "text/x-python",
   "name": "python",
   "nbconvert_exporter": "python",
   "pygments_lexer": "ipython3",
   "version": "3.9.7"
  }
 },
 "nbformat": 4,
 "nbformat_minor": 4
}
